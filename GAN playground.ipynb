{
 "cells": [
  {
   "cell_type": "code",
   "execution_count": 1,
   "metadata": {},
   "outputs": [
    {
     "name": "stdout",
     "output_type": "stream",
     "text": [
      "hi\n"
     ]
    }
   ],
   "source": [
    "print(\"hi\")"
   ]
  },
  {
   "cell_type": "code",
   "execution_count": 2,
   "metadata": {},
   "outputs": [],
   "source": [
    "import torch\n",
    "import numpy as np\n",
    "import matplotlib.pyplot as plt\n",
    "import mnist_gan"
   ]
  },
  {
   "cell_type": "code",
   "execution_count": 3,
   "metadata": {},
   "outputs": [],
   "source": [
    "GENERATOR_FILE = 'generator.pt'"
   ]
  },
  {
   "cell_type": "code",
   "execution_count": 4,
   "metadata": {},
   "outputs": [
    {
     "data": {
      "text/plain": [
       "Generator(\n",
       "  (dense): Sequential(\n",
       "    (0): Linear(in_features=100, out_features=12544, bias=False)\n",
       "    (1): BatchNorm1d(12544, eps=1e-05, momentum=0.1, affine=True, track_running_stats=True)\n",
       "    (2): LeakyReLU(negative_slope=0.01)\n",
       "  )\n",
       "  (main): Sequential(\n",
       "    (0): ConvTranspose2d(256, 128, kernel_size=(5, 5), stride=(1, 1), padding=(2, 2), bias=False)\n",
       "    (1): BatchNorm2d(128, eps=1e-05, momentum=0.1, affine=True, track_running_stats=True)\n",
       "    (2): LeakyReLU(negative_slope=0.01)\n",
       "    (3): ConvTranspose2d(128, 64, kernel_size=(5, 5), stride=(2, 2), padding=(2, 2), output_padding=(1, 1), bias=False)\n",
       "    (4): BatchNorm2d(64, eps=1e-05, momentum=0.1, affine=True, track_running_stats=True)\n",
       "    (5): LeakyReLU(negative_slope=0.01)\n",
       "    (6): ConvTranspose2d(64, 1, kernel_size=(5, 5), stride=(2, 2), padding=(2, 2), output_padding=(1, 1), bias=False)\n",
       "    (7): Tanh()\n",
       "  )\n",
       ")"
      ]
     },
     "execution_count": 4,
     "metadata": {},
     "output_type": "execute_result"
    }
   ],
   "source": [
    "generator = mnist_gan.Generator(code_size=100)\n",
    "generator.load_state_dict(torch.load(GENERATOR_FILE, map_location=torch.device('cpu')))\n",
    "generator.eval()"
   ]
  },
  {
   "cell_type": "code",
   "execution_count": 5,
   "metadata": {},
   "outputs": [],
   "source": [
    "# Since the latent space is not 2D, the best we can do is a slice of it\n",
    "X = torch.randn(1, generator.code_size)\n",
    "Y = torch.randn(1, generator.code_size)"
   ]
  },
  {
   "cell_type": "code",
   "execution_count": 6,
   "metadata": {},
   "outputs": [],
   "source": [
    "def generate_from_1D(alpha):\n",
    "    return generator((X*alpha + Y*(1.-alpha)))[0, 0].detach().numpy().clip(-1, 1)"
   ]
  },
  {
   "cell_type": "code",
   "execution_count": 7,
   "metadata": {},
   "outputs": [
    {
     "data": {
      "image/png": "[encoded data removed]",
      "text/plain": [
       "<Figure size 432x288 with 10 Axes>"
      ]
     },
     "metadata": {
      "needs_background": "light"
     },
     "output_type": "display_data"
    }
   ],
   "source": [
    "cols = 10\n",
    "fig, axes = plt.subplots(ncols=cols)\n",
    "for col_idx, ax in enumerate(axes):\n",
    "    image = generate_from_1D((col_idx/(cols-1)))\n",
    "    ax.imshow(image, cmap=\"gray_r\", interpolation=\"none\")\n",
    "    ax.set_axis_off()"
   ]
  },
  {
   "cell_type": "code",
   "execution_count": 8,
   "metadata": {},
   "outputs": [],
   "source": [
    "test_random_generator = np.random.RandomState(42)"
   ]
  },
  {
   "cell_type": "code",
   "execution_count": 9,
   "metadata": {},
   "outputs": [],
   "source": [
    "test_input = test_random_generator.normal(size=(5, generator.code_size)).astype(np.float32)\n",
    "np.savetxt(\"test_input.dat\", test_input)"
   ]
  },
  {
   "cell_type": "code",
   "execution_count": 10,
   "metadata": {},
   "outputs": [],
   "source": [
    "generated_images = generator(torch.from_numpy(test_input)).detach().numpy()\n",
    "for index, image in enumerate(generated_images):\n",
    "    np.savetxt(f\"test_output_{index}.dat\", image[0])"
   ]
  },
  {
   "cell_type": "code",
   "execution_count": 11,
   "metadata": {},
   "outputs": [
    {
     "data": {
      "image/png": "[encoded data removed]",
      "text/plain": [
       "<Figure size 432x288 with 5 Axes>"
      ]
     },
     "metadata": {
      "needs_background": "light"
     },
     "output_type": "display_data"
    }
   ],
   "source": [
    "fig, axes = plt.subplots(ncols=len(generated_images))\n",
    "for ax, image in zip(axes, generated_images):\n",
    "    ax.imshow(image[0], cmap=\"gray_r\", interpolation=\"none\")\n",
    "    ax.set_axis_off()"
   ]
  },
  {
   "cell_type": "code",
   "execution_count": 12,
   "metadata": {},
   "outputs": [],
   "source": [
    "ONNX_FILE = \"MNIST_generator.onnx\"\n",
    "torch.onnx.export(generator, X, ONNX_FILE, output_names=[\"generated_image\"])"
   ]
  },
  {
   "cell_type": "code",
   "execution_count": 13,
   "metadata": {},
   "outputs": [],
   "source": [
    "import onnx\n",
    "onnx_model = onnx.load(ONNX_FILE)"
   ]
  },
  {
   "cell_type": "code",
   "execution_count": 14,
   "metadata": {},
   "outputs": [
    {
     "name": "stderr",
     "output_type": "stream",
     "text": [
      "/mnt/nkazeev/onnx-tensorflow/onnx_tf/common/__init__.py:96: UserWarning: onnx_tf.common.get_outputs_names is deprecated. It will be removed in future release. Use TensorflowGraph.get_outputs_names instead.\n",
      "  warnings.warn(message)\n",
      "2020-06-19 16:42:15,127 - onnx-tf - INFO - Fail to get since_version of BitShift in domain `` with max_inclusive_version=9. Set to 1.\n",
      "2020-06-19 16:42:15,129 - onnx-tf - INFO - Unknown op ConstantFill in domain `ai.onnx`.\n",
      "2020-06-19 16:42:15,130 - onnx-tf - INFO - Fail to get since_version of ConvInteger in domain `` with max_inclusive_version=9. Set to 1.\n",
      "2020-06-19 16:42:15,130 - onnx-tf - INFO - Fail to get since_version of CumSum in domain `` with max_inclusive_version=9. Set to 1.\n",
      "2020-06-19 16:42:15,131 - onnx-tf - INFO - Fail to get since_version of DequantizeLinear in domain `` with max_inclusive_version=9. Set to 1.\n",
      "2020-06-19 16:42:15,132 - onnx-tf - INFO - Fail to get since_version of Det in domain `` with max_inclusive_version=9. Set to 1.\n",
      "2020-06-19 16:42:15,132 - onnx-tf - INFO - Fail to get since_version of DynamicQuantizeLinear in domain `` with max_inclusive_version=9. Set to 1.\n",
      "2020-06-19 16:42:15,133 - onnx-tf - INFO - Fail to get since_version of GatherND in domain `` with max_inclusive_version=9. Set to 1.\n",
      "2020-06-19 16:42:15,133 - onnx-tf - INFO - Unknown op ImageScaler in domain `ai.onnx`.\n",
      "2020-06-19 16:42:15,134 - onnx-tf - INFO - Fail to get since_version of IsInf in domain `` with max_inclusive_version=9. Set to 1.\n",
      "2020-06-19 16:42:15,135 - onnx-tf - INFO - Fail to get since_version of MatMulInteger in domain `` with max_inclusive_version=9. Set to 1.\n",
      "2020-06-19 16:42:15,136 - onnx-tf - INFO - Fail to get since_version of Mod in domain `` with max_inclusive_version=9. Set to 1.\n",
      "2020-06-19 16:42:15,137 - onnx-tf - INFO - Fail to get since_version of NonMaxSuppression in domain `` with max_inclusive_version=9. Set to 1.\n",
      "2020-06-19 16:42:15,139 - onnx-tf - INFO - Fail to get since_version of QLinearConv in domain `` with max_inclusive_version=9. Set to 1.\n",
      "2020-06-19 16:42:15,140 - onnx-tf - INFO - Fail to get since_version of QLinearMatMul in domain `` with max_inclusive_version=9. Set to 1.\n",
      "2020-06-19 16:42:15,141 - onnx-tf - INFO - Fail to get since_version of QuantizeLinear in domain `` with max_inclusive_version=9. Set to 1.\n",
      "2020-06-19 16:42:15,142 - onnx-tf - INFO - Fail to get since_version of Range in domain `` with max_inclusive_version=9. Set to 1.\n",
      "2020-06-19 16:42:15,142 - onnx-tf - INFO - Fail to get since_version of Resize in domain `` with max_inclusive_version=9. Set to 1.\n",
      "2020-06-19 16:42:15,143 - onnx-tf - INFO - Fail to get since_version of ReverseSequence in domain `` with max_inclusive_version=9. Set to 1.\n",
      "2020-06-19 16:42:15,144 - onnx-tf - INFO - Fail to get since_version of Round in domain `` with max_inclusive_version=9. Set to 1.\n",
      "2020-06-19 16:42:15,144 - onnx-tf - INFO - Fail to get since_version of ScatterElements in domain `` with max_inclusive_version=9. Set to 1.\n",
      "2020-06-19 16:42:15,145 - onnx-tf - INFO - Fail to get since_version of ScatterND in domain `` with max_inclusive_version=9. Set to 1.\n",
      "2020-06-19 16:42:15,146 - onnx-tf - INFO - Fail to get since_version of SequenceAt in domain `` with max_inclusive_version=9. Set to 1.\n",
      "2020-06-19 16:42:15,146 - onnx-tf - INFO - Fail to get since_version of SequenceConstruct in domain `` with max_inclusive_version=9. Set to 1.\n",
      "2020-06-19 16:42:15,147 - onnx-tf - INFO - Fail to get since_version of SequenceEmpty in domain `` with max_inclusive_version=9. Set to 1.\n",
      "2020-06-19 16:42:15,147 - onnx-tf - INFO - Fail to get since_version of SequenceErase in domain `` with max_inclusive_version=9. Set to 1.\n",
      "2020-06-19 16:42:15,148 - onnx-tf - INFO - Fail to get since_version of SequenceInsert in domain `` with max_inclusive_version=9. Set to 1.\n",
      "2020-06-19 16:42:15,148 - onnx-tf - INFO - Fail to get since_version of SequenceLength in domain `` with max_inclusive_version=9. Set to 1.\n",
      "2020-06-19 16:42:15,149 - onnx-tf - INFO - Fail to get since_version of ThresholdedRelu in domain `` with max_inclusive_version=9. Set to 1.\n"
     ]
    },
    {
     "name": "stdout",
     "output_type": "stream",
     "text": [
      "WARNING:tensorflow:From /mnt/nkazeev/onnx-tensorflow/onnx_tf/handlers/backend/reshape.py:30: sparse_to_dense (from tensorflow.python.ops.sparse_ops) is deprecated and will be removed in a future version.\n",
      "Instructions for updating:\n",
      "Create a `tf.sparse.SparseTensor` and use `tf.sparse.to_dense` instead.\n"
     ]
    }
   ],
   "source": [
    "from onnx_tf.backend import prepare\n",
    "TF_PB_FILE = \"MNIST_generator.pb\"\n",
    "tf_rep = prepare(onnx_model)\n",
    "tf_rep.export_graph(TF_PB_FILE)"
   ]
  }
 ],
 "metadata": {
  "kernelspec": {
   "display_name": "Python 3",
   "language": "python",
   "name": "python3"
  },
  "language_info": {
   "codemirror_mode": {
    "name": "ipython",
    "version": 3
   },
   "file_extension": ".py",
   "mimetype": "text/x-python",
   "name": "python",
   "nbconvert_exporter": "python",
   "pygments_lexer": "ipython3",
   "version": "3.6.10"
  }
 },
 "nbformat": 4,
 "nbformat_minor": 4
}
